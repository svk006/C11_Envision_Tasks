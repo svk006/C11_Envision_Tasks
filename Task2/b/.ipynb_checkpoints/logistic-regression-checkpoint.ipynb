{
 "cells": [
  {
   "cell_type": "markdown",
   "id": "dd6d856e",
   "metadata": {},
   "source": [
    "# Logistic Regression"
   ]
  },
  {
   "cell_type": "markdown",
   "id": "7236e309",
   "metadata": {
    "papermill": {
     "duration": 0.009794,
     "end_time": "2023-09-29T15:38:23.759550",
     "exception": false,
     "start_time": "2023-09-29T15:38:23.749756",
     "status": "completed"
    },
    "tags": []
   },
   "source": [
    "<div style=\"padding:10px; \n",
    "            color:black;\n",
    "            margin:10px;\n",
    "            font-size:150%;\n",
    "            display:block;\n",
    "            border-radius:1px;\n",
    "            border-style: solid;\n",
    "            border-color:skyblue;\n",
    "            background-color:#00EFFF;\n",
    "            overflow:hidden;\">\n",
    "    <center>\n",
    "        <a id='top'></a>\n",
    "        <b style=\"color:black\">Table of Contents</b>\n",
    "    </center>\n",
    "    <ul>\n",
    "        <li>\n",
    "            <a href=\"#1\" style=\"color:black\">1 -  Overview</a>\n",
    "        </li>\n",
    "        <li>\n",
    "            <a href=\"#2\" style=\"color:black\">2 -  Imports</a>\n",
    "        </li>\n",
    "        <li>\n",
    "            <a href=\"#3\" style=\"color:black\">3 - Data Loading and Analysis</a>\n",
    "        </li>\n",
    "         <li>\n",
    "            <a href=\"#4\" style=\"color:black\">4 - Data Preprocessing</a>\n",
    "        </li>\n",
    "            <li>\n",
    "            <a href=\"#5\" style=\"color:black\">5 - Model Implementation </a>\n",
    "        </li>\n",
    "        <li>\n",
    "            <a href=\"#6\" style=\"color:black\">6 - Evaluation</a>\n",
    "        </li>\n",
    "    </ul>\n",
    "</div>\n",
    "\n",
    "\n",
    "<a id=\"1\"></a>\n",
    "<h1 style='background:#00EFFF;border:0; color:black;\n",
    "    box-shadow: 10px 10px 5px 0px rgba(0,0,0,0.75);\n",
    "    transform: rotateX(10deg);\n",
    "    '><center style='color: #000000;'>Overview</center></h1>\n",
    "\n",
    "\n",
    "**Let's get started**    \n"
   ]
  },
  {
   "cell_type": "markdown",
   "id": "c57f283e",
   "metadata": {
    "papermill": {
     "duration": 0.007617,
     "end_time": "2023-09-29T15:38:23.775511",
     "exception": false,
     "start_time": "2023-09-29T15:38:23.767894",
     "status": "completed"
    },
    "tags": []
   },
   "source": [
    "<a id=\"2\"></a>\n",
    "<h1 style='background:#00EFFF;border:0; color:black;\n",
    "    box-shadow: 10px 10px 5px 0px rgba(0,0,0,0.75);\n",
    "    transform: rotateX(10deg);\n",
    "    '><center style='color: #000000;'>Imports</center></h1>\n",
    "\n",
    "# Imports"
   ]
  },
  {
   "cell_type": "code",
   "execution_count": null,
   "id": "dae99fad",
   "metadata": {
    "execution": {
     "iopub.execute_input": "2023-09-29T15:38:23.794460Z",
     "iopub.status.busy": "2023-09-29T15:38:23.793503Z",
     "iopub.status.idle": "2023-09-29T15:38:26.044749Z",
     "shell.execute_reply": "2023-09-29T15:38:26.043602Z"
    },
    "papermill": {
     "duration": 2.263809,
     "end_time": "2023-09-29T15:38:26.047433",
     "exception": false,
     "start_time": "2023-09-29T15:38:23.783624",
     "status": "completed"
    },
    "tags": []
   },
   "outputs": [],
   "source": [
    "import math\n",
    "import numpy as np\n",
    "import pandas as pd\n",
    "import matplotlib.pyplot as plt\n",
    "import seaborn as sns\n",
    "import plotly.express as px\n",
    "import pprint\n",
    "import pickle"
   ]
  },
  {
   "cell_type": "markdown",
   "id": "6e46d925",
   "metadata": {
    "papermill": {
     "duration": 0.007963,
     "end_time": "2023-09-29T15:38:26.065326",
     "exception": false,
     "start_time": "2023-09-29T15:38:26.057363",
     "status": "completed"
    },
    "tags": []
   },
   "source": [
    "<a id=\"3\"></a>\n",
    "<h1 style='background:#00EFFF;border:0; color:black;\n",
    "    box-shadow: 10px 10px 5px 0px rgba(0,0,0,0.75);\n",
    "    transform: rotateX(10deg);\n",
    "    '><center style='color: #000000;'>Data Loading and Analysis</center></h1>\n",
    "\n",
    "# Data Loading and Analysis"
   ]
  },
  {
   "cell_type": "code",
   "execution_count": null,
   "id": "d452646a",
   "metadata": {
    "execution": {
     "iopub.execute_input": "2023-09-29T15:38:26.083342Z",
     "iopub.status.busy": "2023-09-29T15:38:26.082912Z",
     "iopub.status.idle": "2023-09-29T15:38:26.108794Z",
     "shell.execute_reply": "2023-09-29T15:38:26.107660Z"
    },
    "papermill": {
     "duration": 0.037821,
     "end_time": "2023-09-29T15:38:26.111330",
     "exception": false,
     "start_time": "2023-09-29T15:38:26.073509",
     "status": "completed"
    },
    "tags": []
   },
   "outputs": [],
   "source": [
    "# Enter the path to the csv file - breast-cancer.csv\n",
    "\n",
    "df = pd.read_csv('') # fill here"
   ]
  },
  {
   "cell_type": "markdown",
   "id": "572dd18e",
   "metadata": {},
   "source": [
    "## Just run these graphs directly to understand the data"
   ]
  },
  {
   "cell_type": "code",
   "execution_count": null,
   "id": "dfa08eaa",
   "metadata": {
    "execution": {
     "iopub.execute_input": "2023-09-29T15:38:26.190935Z",
     "iopub.status.busy": "2023-09-29T15:38:26.190575Z",
     "iopub.status.idle": "2023-09-29T15:38:27.319673Z",
     "shell.execute_reply": "2023-09-29T15:38:27.318507Z"
    },
    "papermill": {
     "duration": 1.141859,
     "end_time": "2023-09-29T15:38:27.322025",
     "exception": false,
     "start_time": "2023-09-29T15:38:26.180166",
     "status": "completed"
    },
    "tags": []
   },
   "outputs": [],
   "source": [
    "px.histogram(data_frame=df, x='diagnosis', color='diagnosis',color_discrete_sequence=['#05445E','#75E6DA'])\n"
   ]
  },
  {
   "cell_type": "code",
   "execution_count": null,
   "id": "a06b73f0",
   "metadata": {
    "execution": {
     "iopub.execute_input": "2023-09-29T15:38:27.342331Z",
     "iopub.status.busy": "2023-09-29T15:38:27.341895Z",
     "iopub.status.idle": "2023-09-29T15:38:27.528537Z",
     "shell.execute_reply": "2023-09-29T15:38:27.527529Z"
    },
    "papermill": {
     "duration": 0.199381,
     "end_time": "2023-09-29T15:38:27.530915",
     "exception": false,
     "start_time": "2023-09-29T15:38:27.331534",
     "status": "completed"
    },
    "tags": []
   },
   "outputs": [],
   "source": [
    "px.histogram(data_frame=df,x='area_mean',color='diagnosis',color_discrete_sequence=['#05445E','#75E6DA'])"
   ]
  },
  {
   "cell_type": "code",
   "execution_count": null,
   "id": "56310bd4",
   "metadata": {
    "execution": {
     "iopub.execute_input": "2023-09-29T15:38:27.552862Z",
     "iopub.status.busy": "2023-09-29T15:38:27.552056Z",
     "iopub.status.idle": "2023-09-29T15:38:27.608916Z",
     "shell.execute_reply": "2023-09-29T15:38:27.607778Z"
    },
    "papermill": {
     "duration": 0.070585,
     "end_time": "2023-09-29T15:38:27.611380",
     "exception": false,
     "start_time": "2023-09-29T15:38:27.540795",
     "status": "completed"
    },
    "tags": []
   },
   "outputs": [],
   "source": [
    "px.histogram(data_frame=df,x='radius_mean',color='diagnosis',color_discrete_sequence=['#05445E','#75E6DA'])"
   ]
  },
  {
   "cell_type": "code",
   "execution_count": null,
   "id": "4492c396",
   "metadata": {
    "execution": {
     "iopub.execute_input": "2023-09-29T15:38:27.632633Z",
     "iopub.status.busy": "2023-09-29T15:38:27.631843Z",
     "iopub.status.idle": "2023-09-29T15:38:27.688190Z",
     "shell.execute_reply": "2023-09-29T15:38:27.687129Z"
    },
    "papermill": {
     "duration": 0.069252,
     "end_time": "2023-09-29T15:38:27.690435",
     "exception": false,
     "start_time": "2023-09-29T15:38:27.621183",
     "status": "completed"
    },
    "tags": []
   },
   "outputs": [],
   "source": [
    "px.histogram(data_frame=df,x='perimeter_mean',color='diagnosis',color_discrete_sequence=['#05445E','#75E6DA'])"
   ]
  },
  {
   "cell_type": "code",
   "execution_count": null,
   "id": "239a875e",
   "metadata": {
    "execution": {
     "iopub.execute_input": "2023-09-29T15:38:27.712200Z",
     "iopub.status.busy": "2023-09-29T15:38:27.711724Z",
     "iopub.status.idle": "2023-09-29T15:38:27.767763Z",
     "shell.execute_reply": "2023-09-29T15:38:27.766595Z"
    },
    "papermill": {
     "duration": 0.069731,
     "end_time": "2023-09-29T15:38:27.770152",
     "exception": false,
     "start_time": "2023-09-29T15:38:27.700421",
     "status": "completed"
    },
    "tags": []
   },
   "outputs": [],
   "source": [
    "px.histogram(data_frame=df,x='smoothness_mean',color='diagnosis',color_discrete_sequence=['#05445E','#75E6DA'])"
   ]
  },
  {
   "cell_type": "code",
   "execution_count": null,
   "id": "ae031126",
   "metadata": {
    "execution": {
     "iopub.execute_input": "2023-09-29T15:38:27.792497Z",
     "iopub.status.busy": "2023-09-29T15:38:27.792099Z",
     "iopub.status.idle": "2023-09-29T15:38:27.848839Z",
     "shell.execute_reply": "2023-09-29T15:38:27.847811Z"
    },
    "papermill": {
     "duration": 0.070366,
     "end_time": "2023-09-29T15:38:27.851054",
     "exception": false,
     "start_time": "2023-09-29T15:38:27.780688",
     "status": "completed"
    },
    "tags": []
   },
   "outputs": [],
   "source": [
    "px.histogram(data_frame=df,x='texture_mean',color='diagnosis',color_discrete_sequence=['#05445E','#75E6DA'])"
   ]
  },
  {
   "cell_type": "code",
   "execution_count": null,
   "id": "66694beb",
   "metadata": {
    "execution": {
     "iopub.execute_input": "2023-09-29T15:38:27.875433Z",
     "iopub.status.busy": "2023-09-29T15:38:27.874413Z",
     "iopub.status.idle": "2023-09-29T15:38:27.946310Z",
     "shell.execute_reply": "2023-09-29T15:38:27.945311Z"
    },
    "papermill": {
     "duration": 0.086032,
     "end_time": "2023-09-29T15:38:27.948445",
     "exception": false,
     "start_time": "2023-09-29T15:38:27.862413",
     "status": "completed"
    },
    "tags": []
   },
   "outputs": [],
   "source": [
    "px.scatter(data_frame=df,x='symmetry_worst',color='diagnosis',color_discrete_sequence=['#05445E','#75E6DA'])\n"
   ]
  },
  {
   "cell_type": "code",
   "execution_count": null,
   "id": "e438356b",
   "metadata": {
    "execution": {
     "iopub.execute_input": "2023-09-29T15:38:27.971827Z",
     "iopub.status.busy": "2023-09-29T15:38:27.971422Z",
     "iopub.status.idle": "2023-09-29T15:38:28.027134Z",
     "shell.execute_reply": "2023-09-29T15:38:28.026131Z"
    },
    "papermill": {
     "duration": 0.070088,
     "end_time": "2023-09-29T15:38:28.029595",
     "exception": false,
     "start_time": "2023-09-29T15:38:27.959507",
     "status": "completed"
    },
    "tags": []
   },
   "outputs": [],
   "source": [
    "px.scatter(data_frame=df,x='concavity_worst',color='diagnosis',color_discrete_sequence=['#05445E','#75E6DA'])\n"
   ]
  },
  {
   "cell_type": "code",
   "execution_count": null,
   "id": "647d4352",
   "metadata": {
    "execution": {
     "iopub.execute_input": "2023-09-29T15:38:28.053428Z",
     "iopub.status.busy": "2023-09-29T15:38:28.053042Z",
     "iopub.status.idle": "2023-09-29T15:38:28.111224Z",
     "shell.execute_reply": "2023-09-29T15:38:28.110177Z"
    },
    "papermill": {
     "duration": 0.072672,
     "end_time": "2023-09-29T15:38:28.113439",
     "exception": false,
     "start_time": "2023-09-29T15:38:28.040767",
     "status": "completed"
    },
    "tags": []
   },
   "outputs": [],
   "source": [
    "px.scatter(data_frame=df,x='fractal_dimension_worst',color='diagnosis',color_discrete_sequence=['#05445E','#75E6DA'])\n"
   ]
  },
  {
   "cell_type": "markdown",
   "id": "2daea78f",
   "metadata": {
    "papermill": {
     "duration": 0.010998,
     "end_time": "2023-09-29T15:38:28.135873",
     "exception": false,
     "start_time": "2023-09-29T15:38:28.124875",
     "status": "completed"
    },
    "tags": []
   },
   "source": [
    "<a id=\"4\"></a>\n",
    "<h1 style='background:#00EFFF;border:0; color:black;\n",
    "    box-shadow: 10px 10px 5px 0px rgba(0,0,0,0.75);\n",
    "    transform: rotateX(10deg);\n",
    "    '><center style='color: #000000;'>Data Preprocessing</center></h1>\n",
    "\n",
    "# Data Preprocessing"
   ]
  },
  {
   "cell_type": "code",
   "execution_count": null,
   "id": "ed1884ae",
   "metadata": {
    "execution": {
     "iopub.execute_input": "2023-09-29T15:38:28.159474Z",
     "iopub.status.busy": "2023-09-29T15:38:28.159112Z",
     "iopub.status.idle": "2023-09-29T15:38:28.164732Z",
     "shell.execute_reply": "2023-09-29T15:38:28.163861Z"
    },
    "papermill": {
     "duration": 0.019619,
     "end_time": "2023-09-29T15:38:28.166442",
     "exception": false,
     "start_time": "2023-09-29T15:38:28.146823",
     "status": "completed"
    },
    "tags": []
   },
   "outputs": [],
   "source": [
    "df.drop('id', axis=1, inplace=True) #drop redundant columns\n"
   ]
  },
  {
   "cell_type": "code",
   "execution_count": null,
   "id": "c3d0bc1f",
   "metadata": {
    "execution": {
     "iopub.execute_input": "2023-09-29T15:38:28.189864Z",
     "iopub.status.busy": "2023-09-29T15:38:28.189480Z",
     "iopub.status.idle": "2023-09-29T15:38:28.195690Z",
     "shell.execute_reply": "2023-09-29T15:38:28.194646Z"
    },
    "papermill": {
     "duration": 0.020548,
     "end_time": "2023-09-29T15:38:28.197929",
     "exception": false,
     "start_time": "2023-09-29T15:38:28.177381",
     "status": "completed"
    },
    "tags": []
   },
   "outputs": [],
   "source": [
    "# encode the 'diagnosis' column in a DataFrame so that malignant ('M') is represented as 1 and all other values as 0\n",
    "\n",
    "# fill here"
   ]
  },
  {
   "cell_type": "markdown",
   "id": "4395f3da",
   "metadata": {
    "papermill": {
     "duration": 0.011273,
     "end_time": "2023-09-29T15:38:28.220652",
     "exception": false,
     "start_time": "2023-09-29T15:38:28.209379",
     "status": "completed"
    },
    "tags": []
   },
   "source": [
    "**Now let's get highly correlated features with the target**"
   ]
  },
  {
   "cell_type": "code",
   "execution_count": null,
   "id": "2f8e5863",
   "metadata": {
    "execution": {
     "iopub.execute_input": "2023-09-29T15:38:28.246214Z",
     "iopub.status.busy": "2023-09-29T15:38:28.245826Z",
     "iopub.status.idle": "2023-09-29T15:38:28.252786Z",
     "shell.execute_reply": "2023-09-29T15:38:28.251815Z"
    },
    "papermill": {
     "duration": 0.023305,
     "end_time": "2023-09-29T15:38:28.254914",
     "exception": false,
     "start_time": "2023-09-29T15:38:28.231609",
     "status": "completed"
    },
    "tags": []
   },
   "outputs": [],
   "source": [
    "corr = df.corr()"
   ]
  },
  {
   "cell_type": "code",
   "execution_count": null,
   "id": "41eb098c",
   "metadata": {
    "execution": {
     "iopub.execute_input": "2023-09-29T15:38:28.278965Z",
     "iopub.status.busy": "2023-09-29T15:38:28.278604Z",
     "iopub.status.idle": "2023-09-29T15:38:32.012693Z",
     "shell.execute_reply": "2023-09-29T15:38:32.011624Z"
    },
    "papermill": {
     "duration": 3.758103,
     "end_time": "2023-09-29T15:38:32.024250",
     "exception": false,
     "start_time": "2023-09-29T15:38:28.266147",
     "status": "completed"
    },
    "tags": []
   },
   "outputs": [],
   "source": [
    "plt.figure(figsize=(20,20))\n",
    "sns.heatmap(corr, cmap='mako_r',annot=True)\n",
    "plt.show()"
   ]
  },
  {
   "cell_type": "code",
   "execution_count": null,
   "id": "49ed0ef3",
   "metadata": {
    "execution": {
     "iopub.execute_input": "2023-09-29T15:38:32.065283Z",
     "iopub.status.busy": "2023-09-29T15:38:32.064487Z",
     "iopub.status.idle": "2023-09-29T15:38:32.079417Z",
     "shell.execute_reply": "2023-09-29T15:38:32.077654Z"
    },
    "papermill": {
     "duration": 0.037738,
     "end_time": "2023-09-29T15:38:32.081517",
     "exception": false,
     "start_time": "2023-09-29T15:38:32.043779",
     "status": "completed"
    },
    "tags": []
   },
   "outputs": [],
   "source": [
    "# Get the absolute value of the correlation\n",
    "cor_target = # fill here\n",
    "\n",
    "# Select highly correlated features (thresold = 0.2)\n",
    "relevant_features = # fill here\n",
    "\n",
    "# Collect the names of the features\n",
    "names = # fill here\n",
    "\n",
    "# Drop the target variable from the names\n",
    "# fill here\n",
    "\n",
    "# Display the results\n",
    "pprint.pprint(names)"
   ]
  },
  {
   "cell_type": "code",
   "execution_count": null,
   "id": "bc613e7f",
   "metadata": {
    "execution": {
     "iopub.execute_input": "2023-09-29T15:38:32.122299Z",
     "iopub.status.busy": "2023-09-29T15:38:32.121894Z",
     "iopub.status.idle": "2023-09-29T15:38:32.127832Z",
     "shell.execute_reply": "2023-09-29T15:38:32.126673Z"
    },
    "papermill": {
     "duration": 0.028881,
     "end_time": "2023-09-29T15:38:32.129892",
     "exception": false,
     "start_time": "2023-09-29T15:38:32.101011",
     "status": "completed"
    },
    "tags": []
   },
   "outputs": [],
   "source": [
    "X = df[names].values\n",
    "y = df['diagnosis'].values"
   ]
  },
  {
   "cell_type": "code",
   "execution_count": null,
   "id": "8abc6b78",
   "metadata": {
    "execution": {
     "iopub.execute_input": "2023-09-29T15:38:32.171344Z",
     "iopub.status.busy": "2023-09-29T15:38:32.170969Z",
     "iopub.status.idle": "2023-09-29T15:38:32.178440Z",
     "shell.execute_reply": "2023-09-29T15:38:32.177347Z"
    },
    "papermill": {
     "duration": 0.030363,
     "end_time": "2023-09-29T15:38:32.180553",
     "exception": false,
     "start_time": "2023-09-29T15:38:32.150190",
     "status": "completed"
    },
    "tags": []
   },
   "outputs": [],
   "source": [
    "def train_test_split(X, y, random_state=42, test_size=0.2):\n",
    "    \"\"\"\n",
    "    Splits the data into training and testing sets.\n",
    "\n",
    "    Parameters:\n",
    "        X (numpy.ndarray): Features array of shape (n_samples, n_features).\n",
    "        y (numpy.ndarray): Target array of shape (n_samples,).\n",
    "        random_state (int): Seed for the random number generator. Default is 42.\n",
    "        test_size (float): Proportion of samples to include in the test set. Default is 0.2.\n",
    "\n",
    "    Returns:\n",
    "        Tuple[numpy.ndarray]: A tuple containing X_train, X_test, y_train, y_test.\n",
    "    \"\"\"\n",
    "\n",
    "    # Fill the details based on this\n",
    "\n",
    "    # Get number of samples\n",
    "    n_samples = # fill here\n",
    "\n",
    "    # Set the seed for the random number generator\n",
    "    \n",
    "\n",
    "    # Shuffle the indices\n",
    "    shuffled_indices = # fill here\n",
    "\n",
    "    # Determine the size of the test set\n",
    "    test_size = # fill here\n",
    "\n",
    "    # Split the indices into test and train\n",
    "    test_indices = # fill here\n",
    "    train_indices = # fill here\n",
    "\n",
    "    # Split the features and target arrays into test and train\n",
    "    X_train, X_test = # fill here\n",
    "    y_train, y_test = # fill here\n",
    "\n",
    "    return X_train, X_test, y_train, y_test\n"
   ]
  },
  {
   "cell_type": "code",
   "execution_count": null,
   "id": "f0294843",
   "metadata": {
    "execution": {
     "iopub.execute_input": "2023-09-29T15:38:32.221777Z",
     "iopub.status.busy": "2023-09-29T15:38:32.221353Z",
     "iopub.status.idle": "2023-09-29T15:38:32.226498Z",
     "shell.execute_reply": "2023-09-29T15:38:32.225553Z"
    },
    "papermill": {
     "duration": 0.028199,
     "end_time": "2023-09-29T15:38:32.228627",
     "exception": false,
     "start_time": "2023-09-29T15:38:32.200428",
     "status": "completed"
    },
    "tags": []
   },
   "outputs": [],
   "source": [
    "X_train, X_test, y_train, y_test = train_test_split(X,y)"
   ]
  },
  {
   "cell_type": "markdown",
   "id": "b9fc6fab",
   "metadata": {
    "papermill": {
     "duration": 0.020766,
     "end_time": "2023-09-29T15:38:32.269411",
     "exception": false,
     "start_time": "2023-09-29T15:38:32.248645",
     "status": "completed"
    },
    "tags": []
   },
   "source": [
    "## Standardize the data\n",
    "\n",
    "Standardization is a preprocessing technique used in machine learning to rescale and transform the features (variables) of a dataset to have a mean of 0 and a standard deviation of 1. It is also known as \"z-score normalization\" or \"z-score scaling.\" Standardization is an essential step in the data preprocessing pipeline for various reasons:\n",
    "\n",
    "### Why Use Standardization in Machine Learning?\n",
    "\n",
    "1. **Mean Centering**: Standardization centers the data by subtracting the mean from each feature. This ensures that the transformed data has a mean of 0. Mean centering is crucial because it helps in capturing the relative variations in the data.\n",
    "\n",
    "2. **Scale Invariance**: Standardization scales the data by dividing each feature by its standard deviation. This makes the data scale-invariant, meaning that the scale of the features no longer affects the performance of many machine learning algorithms. Without standardization, features with larger scales may dominate the learning process.\n",
    "\n",
    "3. **Improved Convergence**: Many machine learning algorithms, such as gradient-based optimization algorithms (e.g., gradient descent), converge faster when the features are standardized. It reduces the potential for numerical instability and overflow/underflow issues during training.\n",
    "\n",
    "4. **Comparability**: Standardizing the features makes it easier to compare and interpret the importance of each feature. This is especially important in models like linear regression, where the coefficients represent the feature's impact on the target variable.\n",
    "\n",
    "5. **Regularization**: In regularization techniques like Ridge and Lasso regression, the regularization strength is applied uniformly to all features. Standardization ensures that the regularization term applies fairly to all features.\n",
    "\n",
    "### How to Standardize Data\n",
    "\n",
    "The standardization process involves the following steps:\n",
    "\n",
    "1. Calculate the mean ($\\mu$) and standard deviation ($\\sigma$) for each feature in the dataset.\n",
    "2. For each data point (sample), subtract the mean ($\\mu$) of the feature and then divide by the standard deviation ($\\sigma$) of the feature.\n",
    "\n",
    "Mathematically, the standardized value for a feature `x` in a dataset is calculated as:\n",
    "\n",
    "$$\n",
    "\\text{Standardized value} = \\frac{x - \\mu}{\\sigma}\n",
    "$$\n",
    "\n",
    "Here, `x` is the original value of the feature, $\\mu$ is the mean of the feature, and $\\sigma$ is the standard deviation of the feature.\n"
   ]
  },
  {
   "cell_type": "code",
   "execution_count": null,
   "id": "28ba3498",
   "metadata": {
    "execution": {
     "iopub.execute_input": "2023-09-29T15:38:32.310281Z",
     "iopub.status.busy": "2023-09-29T15:38:32.309863Z",
     "iopub.status.idle": "2023-09-29T15:38:32.317258Z",
     "shell.execute_reply": "2023-09-29T15:38:32.316115Z"
    },
    "papermill": {
     "duration": 0.030206,
     "end_time": "2023-09-29T15:38:32.319285",
     "exception": false,
     "start_time": "2023-09-29T15:38:32.289079",
     "status": "completed"
    },
    "tags": []
   },
   "outputs": [],
   "source": [
    "def standardize_data(X_train, X_test):\n",
    "    \"\"\"\n",
    "    Standardizes the input data using mean and standard deviation.\n",
    "\n",
    "    Parameters:\n",
    "        X_train (numpy.ndarray): Training data.\n",
    "        X_test (numpy.ndarray): Testing data.\n",
    "\n",
    "    Returns:\n",
    "        Tuple of standardized training and testing data.\n",
    "    \"\"\"\n",
    "\n",
    "    # Calculate the mean and standard deviation using the training data\n",
    "    mean = # fill here\n",
    "    std = # fill here\n",
    "    \n",
    "    # Standardize the data\n",
    "    X_train = # fill here\n",
    "    X_test = # fill here\n",
    "    \n",
    "    return X_train, X_test\n",
    "\n",
    "X_train, X_test = standardize_data(X_train, X_test)"
   ]
  },
  {
   "cell_type": "markdown",
   "id": "505e21d2",
   "metadata": {
    "papermill": {
     "duration": 0.019721,
     "end_time": "2023-09-29T15:38:32.358892",
     "exception": false,
     "start_time": "2023-09-29T15:38:32.339171",
     "status": "completed"
    },
    "tags": []
   },
   "source": [
    "<a id=\"5\"></a>\n",
    "<h1 style='background:#00EFFF;border:0; color:black;\n",
    "    box-shadow: 10px 10px 5px 0px rgba(0,0,0,0.75);\n",
    "    transform: rotateX(10deg);\n",
    "    '><center style='color: #000000;'>Model Implementation</center></h1>\n",
    "\n",
    "# Model Implementation"
   ]
  },
  {
   "cell_type": "markdown",
   "id": "cb101be5",
   "metadata": {
    "papermill": {
     "duration": 0.019597,
     "end_time": "2023-09-29T15:38:32.398687",
     "exception": false,
     "start_time": "2023-09-29T15:38:32.379090",
     "status": "completed"
    },
    "tags": []
   },
   "source": [
    "# Model"
   ]
  },
  {
   "cell_type": "markdown",
   "id": "e059302f",
   "metadata": {
    "papermill": {
     "duration": 0.01938,
     "end_time": "2023-09-29T15:38:32.438472",
     "exception": false,
     "start_time": "2023-09-29T15:38:32.419092",
     "status": "completed"
    },
    "tags": []
   },
   "source": [
    "# Logistic Regression Model\n",
    "\n",
    "Logistic regression is a widely used model in machine learning for binary classification tasks. It models the probability that a given input belongs to a particular class. The logistic regression model function is represented as:\n",
    "\n",
    "$$ f_{\\mathbf{w},b}(\\mathbf{x}) = g(\\mathbf{w} \\cdot \\mathbf{x} + b) $$\n",
    "\n",
    "In this equation, $f_{\\mathbf{w},b}(\\mathbf{x})$ represents the predicted probability, $\\mathbf{w}$ is the weight vector, $\\mathbf{b}$ is the bias term, $\\mathbf{x}$ is the input feature vector, and $g(z)$ is the sigmoid function:\n",
    "\n",
    "$$ g(z) = \\frac{1}{1 + e^{-z}} $$\n",
    "\n",
    "## Model Training\n",
    "\n",
    "To train a logistic regression model, we aim to find the best values for the parameters $(\\mathbf{w}, b)$ that best fit our dataset and provide accurate class probabilities.\n",
    "\n",
    "### Forward Pass\n",
    "\n",
    "The forward pass computes the linear combination of input features $\\mathbf{x}$ with the weight vector $\\mathbf{w}$ and the bias term $b$ and then applies the sigmoid function to the result:\n",
    "\n",
    "$$ Z = \\mathbf{x} \\cdot \\mathbf{w} + b $$\n",
    "$$ A = \\sigma(Z) $$\n",
    "\n",
    "### Cost Function\n",
    "\n",
    "The cost function measures the error between the predicted probabilities and the true labels. In logistic regression, we use the binary cross-entropy loss function:\n",
    "\n",
    "$$ J(\\mathbf{w},b) = -\\frac{1}{m} \\sum_{i=0}^{m-1} \\left[y_i \\log\\left(f_{\\mathbf{w},b}(\\mathbf{x}_i)\\right) + (1 - y_i) \\log\\left(1 - f_{\\mathbf{w},b}(\\mathbf{x}_i)\\right)\\right] $$\n",
    "\n",
    "Here, $m$ is the number of samples, $y_i$ is the true label of sample $i$, and $f_{\\mathbf{w},b}(\\mathbf{x}_i)$ is the predicted probability of sample $i$ belonging to the positive class.\n",
    "\n",
    "### Backward Pass (Gradient Computation)\n",
    "\n",
    "The backward pass calculates the gradients of the cost function with respect to the parameters $(\\mathbf{w}, b)$. These gradients are essential for updating the model parameters during training:\n",
    "\n",
    "$$ \\frac{\\partial J(\\mathbf{w},b)}{\\partial b} = \\frac{1}{m} \\sum_{i=0}^{m-1} \\left(f_{\\mathbf{w},b}(\\mathbf{x}_i) - y_i\\right) $$\n",
    "\n",
    "$$ \\frac{\\partial J(\\mathbf{w},b)}{\\partial \\mathbf{w}} = \\frac{1}{m} \\sum_{i=0}^{m-1} \\left(f_{\\mathbf{w},b}(\\mathbf{x}_i) - y_i\\right)\\mathbf{x}_i $$\n",
    "\n",
    "## Training Process\n",
    "\n",
    "The training process involves iteratively updating the weight vector $\\mathbf{w}$ and bias term $b$ to minimize the cost function. This is typically done through an optimization algorithm like gradient descent. The update equations for parameters are:\n",
    "\n",
    "$$ \\mathbf{w} \\leftarrow \\mathbf{w} - \\alpha \\frac{\\partial J}{\\partial \\mathbf{w}} $$\n",
    "\n",
    "$$ b \\leftarrow b - \\alpha \\frac{\\partial J}{\\partial b} $$\n",
    "\n",
    "Here, $\\alpha$ represents the learning rate, which controls the step size during parameter updates.\n",
    "\n",
    "By iteratively performing the forward pass, computing the cost, performing the backward pass, and updating the parameters, the logistic regression model learns to make better predictions and fit the data.\n"
   ]
  },
  {
   "cell_type": "markdown",
   "id": "315bb325",
   "metadata": {
    "papermill": {
     "duration": 0.019924,
     "end_time": "2023-09-29T15:38:32.478169",
     "exception": false,
     "start_time": "2023-09-29T15:38:32.458245",
     "status": "completed"
    },
    "tags": []
   },
   "source": []
  },
  {
   "cell_type": "code",
   "execution_count": null,
   "id": "126bc46f",
   "metadata": {
    "execution": {
     "iopub.execute_input": "2023-09-29T15:38:32.519722Z",
     "iopub.status.busy": "2023-09-29T15:38:32.519346Z",
     "iopub.status.idle": "2023-09-29T15:38:32.524965Z",
     "shell.execute_reply": "2023-09-29T15:38:32.523755Z"
    },
    "papermill": {
     "duration": 0.029329,
     "end_time": "2023-09-29T15:38:32.527166",
     "exception": false,
     "start_time": "2023-09-29T15:38:32.497837",
     "status": "completed"
    },
    "tags": []
   },
   "outputs": [],
   "source": [
    "def sigmoid(z):\n",
    "    \"\"\"\n",
    "    Compute the sigmoid function for a given input.\n",
    "\n",
    "    The sigmoid function is a mathematical function used in logistic regression and neural networks\n",
    "    to map any real-valued number to a value between 0 and 1.\n",
    "\n",
    "    Parameters:\n",
    "        z (float or numpy.ndarray): The input value(s) for which to compute the sigmoid.\n",
    "\n",
    "    Returns:\n",
    "        float or numpy.ndarray: The sigmoid of the input value(s).\n",
    "\n",
    "    Example:\n",
    "        >>> sigmoid(0)\n",
    "        0.5\n",
    "    \"\"\"\n",
    "    # Compute the sigmoid function using the formula: 1 / (1 + e^(-z)).\n",
    "    \n",
    "    sigmoid_result = # fill here\n",
    "    \n",
    "    # Return the computed sigmoid value.\n",
    "    return sigmoid_result"
   ]
  },
  {
   "cell_type": "markdown",
   "id": "430b9cb7",
   "metadata": {
    "papermill": {
     "duration": 0.019357,
     "end_time": "2023-09-29T15:38:32.566264",
     "exception": false,
     "start_time": "2023-09-29T15:38:32.546907",
     "status": "completed"
    },
    "tags": []
   },
   "source": [
    "**Visualize the shape of the  Logistic function**"
   ]
  },
  {
   "cell_type": "code",
   "execution_count": null,
   "id": "023746e1",
   "metadata": {
    "execution": {
     "iopub.execute_input": "2023-09-29T15:38:32.608027Z",
     "iopub.status.busy": "2023-09-29T15:38:32.607239Z",
     "iopub.status.idle": "2023-09-29T15:38:32.703489Z",
     "shell.execute_reply": "2023-09-29T15:38:32.702402Z"
    },
    "papermill": {
     "duration": 0.119821,
     "end_time": "2023-09-29T15:38:32.705765",
     "exception": false,
     "start_time": "2023-09-29T15:38:32.585944",
     "status": "completed"
    },
    "tags": []
   },
   "outputs": [],
   "source": [
    "z = np.linspace(-12, 12, 200)\n",
    "\n",
    "fig = px.line(x=z, y=sigmoid(z),title='Logistic Function',template=\"plotly_dark\")\n",
    "fig.update_layout(\n",
    "    title_font_color=\"#41BEE9\", \n",
    "    xaxis=dict(color=\"#41BEE9\"), \n",
    "    yaxis=dict(color=\"#41BEE9\") \n",
    ")\n",
    "fig.show()"
   ]
  },
  {
   "cell_type": "markdown",
   "id": "af739ebf",
   "metadata": {},
   "source": [
    "## Implementation of Logistic Regression"
   ]
  },
  {
   "cell_type": "code",
   "execution_count": null,
   "id": "614b0691",
   "metadata": {
    "execution": {
     "iopub.execute_input": "2023-09-29T15:38:32.748020Z",
     "iopub.status.busy": "2023-09-29T15:38:32.747278Z",
     "iopub.status.idle": "2023-09-29T15:38:32.767424Z",
     "shell.execute_reply": "2023-09-29T15:38:32.766472Z"
    },
    "papermill": {
     "duration": 0.044355,
     "end_time": "2023-09-29T15:38:32.769889",
     "exception": false,
     "start_time": "2023-09-29T15:38:32.725534",
     "status": "completed"
    },
    "tags": []
   },
   "outputs": [],
   "source": [
    "# Write the code in missing places\n",
    "\n",
    "class LogisticRegression:\n",
    "    \"\"\"\n",
    "    Logistic Regression model.\n",
    "\n",
    "    Parameters:\n",
    "        learning_rate (float): Learning rate for the model.\n",
    "\n",
    "    Methods:\n",
    "        initialize_parameter(): Initializes the parameters of the model.\n",
    "        sigmoid(z): Computes the sigmoid activation function for given input z.\n",
    "        forward(X): Computes forward propagation for given input X.\n",
    "        compute_cost(predictions): Computes the cost function for given predictions.\n",
    "        compute_gradient(predictions): Computes the gradients for the model using given predictions.\n",
    "        fit(X, y, iterations, plot_cost): Trains the model on given input X and labels y for specified iterations.\n",
    "        predict(X): Predicts the labels for given input X.\n",
    "    \"\"\"\n",
    "\n",
    "    def __init__(self, learning_rate=0.0001):\n",
    "        np.random.seed(1)\n",
    "        self.learning_rate = learning_rate\n",
    "\n",
    "    def initialize_parameter(self):\n",
    "        \"\"\"\n",
    "        Initializes the parameters of the model.\n",
    "        \"\"\"\n",
    "        self.W = np.zeros(self.X.shape[1])\n",
    "        self.b = 0.0\n",
    "\n",
    "\n",
    "    def forward(self, X):\n",
    "        \"\"\"\n",
    "        Computes forward propagation for given input X.\n",
    "\n",
    "        Parameters:\n",
    "            X (numpy.ndarray): Input array.\n",
    "\n",
    "        Returns:\n",
    "            numpy.ndarray: Output array.\n",
    "        \"\"\"\n",
    "#         print(X.shape, self.W.shape)\n",
    "        Z = np.matmul(X, self.W) + self.b\n",
    "        A = sigmoid(Z)\n",
    "        return A\n",
    "\n",
    "    def compute_cost(self, predictions):\n",
    "        \"\"\"\n",
    "        Computes the cost function for given predictions.\n",
    "\n",
    "        Parameters:\n",
    "            predictions (numpy.ndarray): Predictions of the model.\n",
    "\n",
    "        Returns:\n",
    "            float: Cost of the model.\n",
    "        \"\"\"\n",
    "        m = self.X.shape[0]  # number of training examples\n",
    "        # compute the cost\n",
    "        cost = np.sum((-np.log(predictions + 1e-8) * self.y) + (-np.log(1 - predictions + 1e-8)) * (\n",
    "                1 - self.y))  # we are adding small value epsilon to avoid log of 0\n",
    "        cost = cost / m\n",
    "        return cost\n",
    "\n",
    "    def compute_gradient(self, predictions):\n",
    "        \"\"\"\n",
    "        Computes the gradients for the model using given predictions.\n",
    "\n",
    "        Parameters:\n",
    "            predictions (numpy.ndarray): Predictions of the model.\n",
    "        \"\"\"\n",
    "        # get training shape\n",
    "        m = self.X.shape[0]\n",
    "\n",
    "        # compute gradients\n",
    "        #fill here\n",
    "\n",
    "        # scale gradients\n",
    "        # fill here\n",
    "\n",
    "\n",
    "    def fit(self, X, y, iterations, plot_cost=True):\n",
    "        \"\"\"\n",
    "        Trains the model on given input X and labels y for specified iterations.\n",
    "\n",
    "        Parameters:\n",
    "            X (numpy.ndarray): Input features array of shape (n_samples, n )\n",
    "            y (numpy.ndarray): Labels array of shape (n_samples, 1)\n",
    "            iterations (int): Number of iterations for training.\n",
    "            plot_cost (bool): Whether to plot cost over iterations or not.\n",
    "\n",
    "        Returns:\n",
    "            None.\n",
    "        \"\"\"\n",
    "        self.X = X\n",
    "        self.y = y\n",
    "\n",
    "        self.initialize_parameter()\n",
    "\n",
    "        costs = []\n",
    "        for i in range(iterations):\n",
    "            # forward propagation\n",
    "            predictions = self.forward(self.X)\n",
    "\n",
    "            # compute cost\n",
    "            cost = self.compute_cost(predictions)\n",
    "            costs.append(cost)\n",
    "\n",
    "            # compute gradients\n",
    "            self.compute_gradient(predictions)\n",
    "\n",
    "            # update parameters\n",
    "            self.W = self.W - self.learning_rate * self.dW\n",
    "            self.b = self.b - self.learning_rate * self.db\n",
    "\n",
    "            # print cost every 100 iterations\n",
    "            if i % 10000 == 0:\n",
    "                print(\"Cost after iteration {}: {}\".format(i, cost))\n",
    "\n",
    "        if plot_cost:\n",
    "            fig = px.line(y=costs,title=\"Cost vs Iteration\",template=\"plotly_dark\")\n",
    "            fig.update_layout(\n",
    "                title_font_color=\"#41BEE9\", \n",
    "                xaxis=dict(color=\"#41BEE9\",title=\"Iterations\"), \n",
    "                yaxis=dict(color=\"#41BEE9\",title=\"cost\")\n",
    "            )\n",
    "            fig.show()\n",
    "\n",
    "\n",
    "    def predict(self, X):\n",
    "        \"\"\"\n",
    "        Predicts the labels for given input X.\n",
    "\n",
    "        Parameters:\n",
    "            X (numpy.ndarray): Input features array.\n",
    "\n",
    "        Returns:\n",
    "            numpy.ndarray: Predicted labels.\n",
    "        \"\"\"\n",
    "        \n",
    "        # Write the code to predict the labels\n",
    "    \n",
    "    \n",
    "    def save_model(self, filename=None):\n",
    "        \"\"\"\n",
    "        Save the trained model to a file using pickle.\n",
    "\n",
    "        Parameters:\n",
    "            filename (str): The name of the file to save the model to.\n",
    "        \"\"\"\n",
    "        model_data = {\n",
    "            'learning_rate': self.learning_rate,\n",
    "            'W': self.W,\n",
    "            'b': self.b\n",
    "        }\n",
    "\n",
    "        with open(filename, 'wb') as file:\n",
    "            pickle.dump(model_data, file)\n",
    "\n",
    "    @classmethod\n",
    "    def load_model(cls, filename):\n",
    "        \"\"\"\n",
    "        Load a trained model from a file using pickle.\n",
    "\n",
    "        Parameters:\n",
    "            filename (str): The name of the file to load the model from.\n",
    "\n",
    "        Returns:\n",
    "            LogisticRegression: An instance of the LogisticRegression class with loaded parameters.\n",
    "        \"\"\"\n",
    "        with open(filename, 'rb') as file:\n",
    "            model_data = pickle.load(file)\n",
    "\n",
    "        # Create a new instance of the class and initialize it with the loaded parameters\n",
    "        loaded_model = cls(model_data['learning_rate'])\n",
    "        loaded_model.W = model_data['W']\n",
    "        loaded_model.b = model_data['b']\n",
    "\n",
    "        return loaded_model"
   ]
  },
  {
   "cell_type": "code",
   "execution_count": null,
   "id": "a39787fc",
   "metadata": {
    "execution": {
     "iopub.execute_input": "2023-09-29T15:38:32.811919Z",
     "iopub.status.busy": "2023-09-29T15:38:32.811192Z",
     "iopub.status.idle": "2023-09-29T15:40:08.648124Z",
     "shell.execute_reply": "2023-09-29T15:40:08.646541Z"
    },
    "papermill": {
     "duration": 95.905662,
     "end_time": "2023-09-29T15:40:08.695429",
     "exception": false,
     "start_time": "2023-09-29T15:38:32.789767",
     "status": "completed"
    },
    "tags": []
   },
   "outputs": [],
   "source": [
    "lg = LogisticRegression()\n",
    "lg.fit(X_train, y_train,100000)"
   ]
  },
  {
   "cell_type": "code",
   "execution_count": null,
   "id": "579e297b",
   "metadata": {
    "execution": {
     "iopub.execute_input": "2023-09-29T15:40:08.812876Z",
     "iopub.status.busy": "2023-09-29T15:40:08.811769Z",
     "iopub.status.idle": "2023-09-29T15:40:08.817459Z",
     "shell.execute_reply": "2023-09-29T15:40:08.816299Z"
    },
    "papermill": {
     "duration": 0.069252,
     "end_time": "2023-09-29T15:40:08.819652",
     "exception": false,
     "start_time": "2023-09-29T15:40:08.750400",
     "status": "completed"
    },
    "tags": []
   },
   "outputs": [],
   "source": [
    "lg.save_model(\"model.pkl\")"
   ]
  },
  {
   "cell_type": "markdown",
   "id": "aba209ec",
   "metadata": {
    "papermill": {
     "duration": 0.058872,
     "end_time": "2023-09-29T15:40:08.936800",
     "exception": false,
     "start_time": "2023-09-29T15:40:08.877928",
     "status": "completed"
    },
    "tags": []
   },
   "source": [
    "<a id=\"6\"></a>\n",
    "<h1 style='background:#00EFFF;border:0; color:black;\n",
    "    box-shadow: 10px 10px 5px 0px rgba(0,0,0,0.75);\n",
    "    transform: rotateX(10deg);\n",
    "    '><center style='color: #000000;'>Evaluation</center></h1>\n",
    "    \n",
    "    \n",
    "    \n",
    "# Evaluation\n"
   ]
  },
  {
   "cell_type": "markdown",
   "id": "eba00363",
   "metadata": {
    "papermill": {
     "duration": 0.058541,
     "end_time": "2023-09-29T15:40:09.054264",
     "exception": false,
     "start_time": "2023-09-29T15:40:08.995723",
     "status": "completed"
    },
    "tags": []
   },
   "source": [
    "\n",
    "**In classification tasks, it's crucial to evaluate the performance of your model. There are several metrics that can help you understand how well your model is performing. Here are four commonly used classification metrics:**\n",
    "## 1. Accuracy\n",
    "\n",
    "**Formula:**\n",
    "$$\n",
    "\\text{Accuracy} = \\frac{\\text{Number of Correct Predictions}}{\\text{Total Number of Predictions}}\n",
    "$$\n",
    "\n",
    "**Description:**\n",
    "- **Accuracy** measures the proportion of correctly predicted instances out of all instances in a classification model.\n",
    "- It is a widely used metric for evaluating classification performance.\n",
    "\n",
    "**Interpretation:**\n",
    "- A higher accuracy value indicates a better classification model.\n",
    "- However, accuracy alone may not provide a complete picture, especially in imbalanced datasets.\n",
    "\n",
    "## 2. Precision\n",
    "\n",
    "**Formula:**\n",
    "$$\n",
    "\\text{Precision} = \\frac{\\text{True Positives}}{\\text{True Positives + False Positives}}\n",
    "$$\n",
    "\n",
    "**Description:**\n",
    "- **Precision** measures the proportion of true positive predictions out of all positive predictions made by the model.\n",
    "- It is a useful metric when the cost of false positives is high.\n",
    "\n",
    "**Interpretation:**\n",
    "- Higher precision means the model makes fewer false positive predictions.\n",
    "\n",
    "## 3. Recall (Sensitivity)\n",
    "\n",
    "**Formula:**\n",
    "$$\n",
    "\\text{Recall (Sensitivity)} = \\frac{\\text{True Positives}}{\\text{True Positives + False Negatives}}\n",
    "$$\n",
    "\n",
    "**Description:**\n",
    "- **Recall**, also known as sensitivity or true positive rate, measures the proportion of true positive predictions out of all actual positive instances in the dataset.\n",
    "- It is a valuable metric when it's essential to capture all positive instances.\n",
    "\n",
    "**Interpretation:**\n",
    "- Higher recall means the model captures more of the actual positive instances.\n",
    "\n",
    "## 4. F1-Score\n",
    "\n",
    "**Formula:**\n",
    "$$\n",
    "\\text{F1-Score} = 2 \\times \\frac{\\text{Precision} \\times \\text{Recall}}{\\text{Precision + Recall}}\n",
    "$$\n",
    "\n",
    "**Description:**\n",
    "- The **F1-Score** is the harmonic mean of precision and recall.\n",
    "- It provides a balance between precision and recall, making it a suitable metric when there is a trade-off between false positives and false negatives.\n",
    "\n",
    "**Interpretation:**\n",
    "- A higher F1-Score indicates a model that achieves a balance between precision and recall.\n",
    "\n"
   ]
  },
  {
   "cell_type": "code",
   "execution_count": null,
   "id": "ea1ada75",
   "metadata": {
    "execution": {
     "iopub.execute_input": "2023-09-29T15:40:09.174139Z",
     "iopub.status.busy": "2023-09-29T15:40:09.173196Z",
     "iopub.status.idle": "2023-09-29T15:40:09.182519Z",
     "shell.execute_reply": "2023-09-29T15:40:09.181760Z"
    },
    "papermill": {
     "duration": 0.071849,
     "end_time": "2023-09-29T15:40:09.184575",
     "exception": false,
     "start_time": "2023-09-29T15:40:09.112726",
     "status": "completed"
    },
    "tags": []
   },
   "outputs": [],
   "source": [
    "class ClassificationMetrics:\n",
    "    @staticmethod\n",
    "    def accuracy(y_true, y_pred):\n",
    "        \"\"\"\n",
    "        Computes the accuracy of a classification model.\n",
    "\n",
    "        Parameters:\n",
    "        y_true (numpy array): A numpy array of true labels for each data point.\n",
    "        y_pred (numpy array): A numpy array of predicted labels for each data point.\n",
    "\n",
    "        Returns:\n",
    "        float: The accuracy of the model, expressed as a percentage.\n",
    "        \"\"\"\n",
    "        \n",
    "        # Write the code based on this\n",
    "\n",
    "    @staticmethod\n",
    "    def precision(y_true, y_pred):\n",
    "        \"\"\"\n",
    "        Computes the precision of a classification model.\n",
    "\n",
    "        Parameters:\n",
    "        y_true (numpy array): A numpy array of true labels for each data point.\n",
    "        y_pred (numpy array): A numpy array of predicted labels for each data point.\n",
    "\n",
    "        Returns:\n",
    "        float: The precision of the model, which measures the proportion of true positive predictions\n",
    "        out of all positive predictions made by the model.\n",
    "        \"\"\"\n",
    "        \n",
    "        # Write the code based on this\n",
    "\n",
    "    @staticmethod\n",
    "    def recall(y_true, y_pred):\n",
    "        \"\"\"\n",
    "        Computes the recall (sensitivity) of a classification model.\n",
    "\n",
    "        Parameters:\n",
    "        y_true (numpy array): A numpy array of true labels for each data point.\n",
    "        y_pred (numpy array): A numpy array of predicted labels for each data point.\n",
    "\n",
    "        Returns:\n",
    "        float: The recall of the model, which measures the proportion of true positive predictions\n",
    "        out of all actual positive instances in the dataset.\n",
    "        \"\"\"\n",
    "        \n",
    "        # Write the code based on this\n",
    "\n",
    "    @staticmethod\n",
    "    def f1_score(y_true, y_pred):\n",
    "        \"\"\"\n",
    "        Computes the F1-score of a classification model.\n",
    "\n",
    "        Parameters:\n",
    "        y_true (numpy array): A numpy array of true labels for each data point.\n",
    "        y_pred (numpy array): A numpy array of predicted labels for each data point.\n",
    "\n",
    "        Returns:\n",
    "        float: The F1-score of the model, which is the harmonic mean of precision and recall.\n",
    "        \"\"\"\n",
    "        \n",
    "        # Write the code based on this"
   ]
  },
  {
   "cell_type": "code",
   "execution_count": null,
   "id": "d05f0b5b",
   "metadata": {
    "execution": {
     "iopub.execute_input": "2023-09-29T15:40:09.304851Z",
     "iopub.status.busy": "2023-09-29T15:40:09.304210Z",
     "iopub.status.idle": "2023-09-29T15:40:09.309271Z",
     "shell.execute_reply": "2023-09-29T15:40:09.307852Z"
    },
    "papermill": {
     "duration": 0.068767,
     "end_time": "2023-09-29T15:40:09.311593",
     "exception": false,
     "start_time": "2023-09-29T15:40:09.242826",
     "status": "completed"
    },
    "tags": []
   },
   "outputs": [],
   "source": [
    "model = LogisticRegression.load_model(\"model.pkl\")"
   ]
  },
  {
   "cell_type": "code",
   "execution_count": null,
   "id": "1ea3ca3f",
   "metadata": {
    "execution": {
     "iopub.execute_input": "2023-09-29T15:40:09.440308Z",
     "iopub.status.busy": "2023-09-29T15:40:09.439574Z",
     "iopub.status.idle": "2023-09-29T15:40:09.446989Z",
     "shell.execute_reply": "2023-09-29T15:40:09.445802Z"
    },
    "papermill": {
     "duration": 0.07536,
     "end_time": "2023-09-29T15:40:09.448935",
     "exception": false,
     "start_time": "2023-09-29T15:40:09.373575",
     "status": "completed"
    },
    "tags": []
   },
   "outputs": [],
   "source": [
    "y_pred = model.predict(X_test)\n",
    "accuracy = ClassificationMetrics.accuracy(y_test, y_pred)\n",
    "precision = ClassificationMetrics.precision(y_test, y_pred)\n",
    "recall = ClassificationMetrics.recall(y_test, y_pred)\n",
    "f1_score = ClassificationMetrics.f1_score(y_test, y_pred)\n",
    "\n",
    "print(f\"Accuracy: {accuracy:.2%}\")\n",
    "print(f\"Precision: {precision:.2%}\")\n",
    "print(f\"Recall: {recall:.2%}\")\n",
    "print(f\"F1-Score: {f1_score:.2%}\")"
   ]
  },
  {
   "cell_type": "markdown",
   "id": "abd24604",
   "metadata": {},
   "source": []
  }
 ],
 "metadata": {
  "kernelspec": {
   "display_name": "Python 3",
   "language": "python",
   "name": "python3"
  },
  "language_info": {
   "codemirror_mode": {
    "name": "ipython",
    "version": 3
   },
   "file_extension": ".py",
   "mimetype": "text/x-python",
   "name": "python",
   "nbconvert_exporter": "python",
   "pygments_lexer": "ipython3",
   "version": "3.7.12"
  },
  "papermill": {
   "default_parameters": {},
   "duration": 116.128296,
   "end_time": "2023-09-29T15:40:10.686425",
   "environment_variables": {},
   "exception": null,
   "input_path": "__notebook__.ipynb",
   "output_path": "__notebook__.ipynb",
   "parameters": {},
   "start_time": "2023-09-29T15:38:14.558129",
   "version": "2.3.4"
  }
 },
 "nbformat": 4,
 "nbformat_minor": 5
}
